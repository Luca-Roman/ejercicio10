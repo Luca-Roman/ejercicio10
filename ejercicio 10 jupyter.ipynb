{
 "cells": [
  {
   "cell_type": "markdown",
   "id": "ccc204c4",
   "metadata": {},
   "source": [
    "# Ejercicio 10 \n",
    "## Luca Roman - 18467/7"
   ]
  },
  {
   "cell_type": "markdown",
   "id": "6990bb9f",
   "metadata": {},
   "source": [
    "## Traer los archivos\n",
    "Lo primero que hago es traer la ruta de los archivos con los que voy a trabajar en el ejercicio para luego poder abrirlos.\n",
    "De esta manera el ejercicio puede funcionar independientemente de la ruta donde hayan descargado el archivo (Siempre y cuando estén los archivos necesarios)"
   ]
  },
  {
   "cell_type": "code",
   "execution_count": null,
   "id": "a016e70a",
   "metadata": {},
   "outputs": [],
   "source": [
    "import os\n",
    "\n",
    "ruta = os.path.abspath(os.path.dirname(__file__))    #Buscamos la dirección del prgrama y donde también estan los archivos\n",
    "ruta_nombres_1 = os.path.join(ruta,\"nombres_1.txt\")  #Ahora le agregamos el nombre del archivo asi podemos abrirlo\n",
    "ruta_notas_1 = os.path.join(ruta,\"eval1.txt\")\n",
    "ruta_notas_2 = os.path.join(ruta,\"eval2.txt\")"
   ]
  },
  {
   "cell_type": "markdown",
   "id": "dfde50ca",
   "metadata": {},
   "source": [
    "## Abrir y asignarlos a una variable\n",
    "Luego de haber obtenido las rutas, la uilizo para abrir los archivos y asignar sus datos a una variable"
   ]
  },
  {
   "cell_type": "code",
   "execution_count": null,
   "id": "697bf304",
   "metadata": {},
   "outputs": [],
   "source": [
    "with open(ruta_notas_1,encoding=\"utf8\") as arch_notas_1:\n",
    "    notas_1 = arch_notas_1.read().replace(\",\", \"\").split() #Los datos del archivo quedan en la variable notas_1\n",
    "\n",
    "with open(ruta_notas_2,encoding=\"utf8\") as arch_notas_2:\n",
    "    notas_2= arch_notas_2.read().replace(\",\", \"\").split()\n",
    "\n",
    "with open(ruta_nombres_1,encoding=\"utf8\") as arch_nomb_1:\n",
    "    nombres_1 = arch_nomb_1.read().replace(\",\", \"\").replace(\"'\", \"\").split()"
   ]
  },
  {
   "cell_type": "markdown",
   "id": "212fce70",
   "metadata": {},
   "source": [
    "## Funcion armar lista de nombres y notas\n",
    "Ya teniendo los datos en sus respectivas variables, paso a definir la función en la que se van a unir el nombre del alumno con su respectiva suma de notas."
   ]
  },
  {
   "cell_type": "code",
   "execution_count": null,
   "id": "2aef2108",
   "metadata": {},
   "outputs": [],
   "source": [
    "def armar_lista (lista_nom, notas_1, notas_2) :\n",
    "    \"\"\"Genera una lista de tuplas, las tuplas contiene el nombre y la nota total del alumno\"\"\"\n",
    "    i = 0\n",
    "    lista_todos = []\n",
    "    tup = ()\n",
    "    for nom in lista_nom :\n",
    "        tup = (nom, int(notas_1[i]) + int(notas_2[i]))    #Se genera una tupla con el nombre y las suma de las notas del alumno\n",
    "        lista_todos.append(tup)                           #Se añade la tupla a la lista\n",
    "        i = i + 1\n",
    "    return lista_todos"
   ]
  },
  {
   "cell_type": "markdown",
   "id": "4595d07c",
   "metadata": {},
   "source": [
    "## Funcion calcular promedio\n",
    "Defino la función para calcular el promedio, en la cual se pasa por parametros la lista y devuelve el promedio de todas las notas de todos los alumnos."
   ]
  },
  {
   "cell_type": "code",
   "execution_count": null,
   "id": "7f912c50",
   "metadata": {},
   "outputs": [],
   "source": [
    "def calcu_prom (list_tod) :\n",
    "    \"\"\"\" Calcula el promedio, ingresando la lista de tuplas \"\"\"\n",
    "    total = 0\n",
    "    cant_pibes = len(list_tod) \n",
    "    for i in range(cant_pibes) : \n",
    "        total = total + list_tod[i][1]     #Suma las notas de todos los alumnos una a una para obtener el total\n",
    "    prom =  total / cant_pibes             #Divide el total por la cantidad de alumnos de la lista\n",
    "    return prom"
   ]
  },
  {
   "cell_type": "markdown",
   "id": "db541f0f",
   "metadata": {},
   "source": [
    "## Funcion imprimir\n",
    "Defino la función en la cual, ya habiendo obtenido el promedio, le paso por parametros la lista de tuplas y el promedio y va imprimiendo los alumnos cuya nota sea menor al promedio."
   ]
  },
  {
   "cell_type": "code",
   "execution_count": null,
   "id": "2b1ac38f",
   "metadata": {},
   "outputs": [],
   "source": [
    "def imprimir_menor_prom (list_tod, prom) :\n",
    "    \"\"\"\" Imprime el nombre y la nota de los alumnos por debajo del promedio \"\"\"\n",
    "    for i in range(len(list_tod)) :\n",
    "        if (list_tod[i][1] < prom) :\n",
    "            nombre = list_tod[i][0]\n",
    "            nota = list_tod[i][1]\n",
    "            print (f\"{nombre} Tuvo una suma de notas de {nota}\")"
   ]
  },
  {
   "cell_type": "markdown",
   "id": "d95e5e28",
   "metadata": {},
   "source": [
    "## Llamo a las funciones\n",
    "Por último llamo a las funciones para que se ejecuten y hagan lo que se pide en el ejercicio"
   ]
  },
  {
   "cell_type": "code",
   "execution_count": null,
   "id": "50e765ca",
   "metadata": {},
   "outputs": [],
   "source": [
    "lista_todos = armar_lista (nombres_1, notas_1, notas_2)\n",
    "promedio = calcu_prom (lista_todos)\n",
    "print(f\"El promedio fue de : {promedio}\")\n",
    "imprimir_menor_prom(lista_todos,promedio)"
   ]
  }
 ],
 "metadata": {
  "kernelspec": {
   "display_name": "Python 3 (ipykernel)",
   "language": "python",
   "name": "python3"
  },
  "language_info": {
   "codemirror_mode": {
    "name": "ipython",
    "version": 3
   },
   "file_extension": ".py",
   "mimetype": "text/x-python",
   "name": "python",
   "nbconvert_exporter": "python",
   "pygments_lexer": "ipython3",
   "version": "3.10.0"
  }
 },
 "nbformat": 4,
 "nbformat_minor": 5
}
